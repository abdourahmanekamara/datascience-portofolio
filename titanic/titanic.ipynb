{
 "cells": [
  {
   "cell_type": "markdown",
   "metadata": {},
   "source": [
    "# Bibliothèques"
   ]
  },
  {
   "cell_type": "code",
   "execution_count": 1,
   "metadata": {},
   "outputs": [],
   "source": [
    "import pandas\n",
    "import seaborn as sns\n"
   ]
  },
  {
   "cell_type": "code",
   "execution_count": 3,
   "metadata": {},
   "outputs": [],
   "source": [
    "train=pandas.read_csv('train.csv')"
   ]
  },
  {
   "cell_type": "code",
   "execution_count": 4,
   "metadata": {},
   "outputs": [
    {
     "data": {
      "text/html": [
       "<div>\n",
       "<style scoped>\n",
       "    .dataframe tbody tr th:only-of-type {\n",
       "        vertical-align: middle;\n",
       "    }\n",
       "\n",
       "    .dataframe tbody tr th {\n",
       "        vertical-align: top;\n",
       "    }\n",
       "\n",
       "    .dataframe thead th {\n",
       "        text-align: right;\n",
       "    }\n",
       "</style>\n",
       "<table border=\"1\" class=\"dataframe\">\n",
       "  <thead>\n",
       "    <tr style=\"text-align: right;\">\n",
       "      <th></th>\n",
       "      <th>PassengerId</th>\n",
       "      <th>Survived</th>\n",
       "      <th>Pclass</th>\n",
       "      <th>Name</th>\n",
       "      <th>Sex</th>\n",
       "      <th>Age</th>\n",
       "      <th>SibSp</th>\n",
       "      <th>Parch</th>\n",
       "      <th>Ticket</th>\n",
       "      <th>Fare</th>\n",
       "      <th>Cabin</th>\n",
       "      <th>Embarked</th>\n",
       "    </tr>\n",
       "  </thead>\n",
       "  <tbody>\n",
       "    <tr>\n",
       "      <th>0</th>\n",
       "      <td>1</td>\n",
       "      <td>0</td>\n",
       "      <td>3</td>\n",
       "      <td>Braund, Mr. Owen Harris</td>\n",
       "      <td>male</td>\n",
       "      <td>22.0</td>\n",
       "      <td>1</td>\n",
       "      <td>0</td>\n",
       "      <td>A/5 21171</td>\n",
       "      <td>7.2500</td>\n",
       "      <td>NaN</td>\n",
       "      <td>S</td>\n",
       "    </tr>\n",
       "    <tr>\n",
       "      <th>1</th>\n",
       "      <td>2</td>\n",
       "      <td>1</td>\n",
       "      <td>1</td>\n",
       "      <td>Cumings, Mrs. John Bradley (Florence Briggs Th...</td>\n",
       "      <td>female</td>\n",
       "      <td>38.0</td>\n",
       "      <td>1</td>\n",
       "      <td>0</td>\n",
       "      <td>PC 17599</td>\n",
       "      <td>71.2833</td>\n",
       "      <td>C85</td>\n",
       "      <td>C</td>\n",
       "    </tr>\n",
       "    <tr>\n",
       "      <th>2</th>\n",
       "      <td>3</td>\n",
       "      <td>1</td>\n",
       "      <td>3</td>\n",
       "      <td>Heikkinen, Miss. Laina</td>\n",
       "      <td>female</td>\n",
       "      <td>26.0</td>\n",
       "      <td>0</td>\n",
       "      <td>0</td>\n",
       "      <td>STON/O2. 3101282</td>\n",
       "      <td>7.9250</td>\n",
       "      <td>NaN</td>\n",
       "      <td>S</td>\n",
       "    </tr>\n",
       "    <tr>\n",
       "      <th>3</th>\n",
       "      <td>4</td>\n",
       "      <td>1</td>\n",
       "      <td>1</td>\n",
       "      <td>Futrelle, Mrs. Jacques Heath (Lily May Peel)</td>\n",
       "      <td>female</td>\n",
       "      <td>35.0</td>\n",
       "      <td>1</td>\n",
       "      <td>0</td>\n",
       "      <td>113803</td>\n",
       "      <td>53.1000</td>\n",
       "      <td>C123</td>\n",
       "      <td>S</td>\n",
       "    </tr>\n",
       "    <tr>\n",
       "      <th>4</th>\n",
       "      <td>5</td>\n",
       "      <td>0</td>\n",
       "      <td>3</td>\n",
       "      <td>Allen, Mr. William Henry</td>\n",
       "      <td>male</td>\n",
       "      <td>35.0</td>\n",
       "      <td>0</td>\n",
       "      <td>0</td>\n",
       "      <td>373450</td>\n",
       "      <td>8.0500</td>\n",
       "      <td>NaN</td>\n",
       "      <td>S</td>\n",
       "    </tr>\n",
       "  </tbody>\n",
       "</table>\n",
       "</div>"
      ],
      "text/plain": [
       "   PassengerId  Survived  Pclass  \\\n",
       "0            1         0       3   \n",
       "1            2         1       1   \n",
       "2            3         1       3   \n",
       "3            4         1       1   \n",
       "4            5         0       3   \n",
       "\n",
       "                                                Name     Sex   Age  SibSp  \\\n",
       "0                            Braund, Mr. Owen Harris    male  22.0      1   \n",
       "1  Cumings, Mrs. John Bradley (Florence Briggs Th...  female  38.0      1   \n",
       "2                             Heikkinen, Miss. Laina  female  26.0      0   \n",
       "3       Futrelle, Mrs. Jacques Heath (Lily May Peel)  female  35.0      1   \n",
       "4                           Allen, Mr. William Henry    male  35.0      0   \n",
       "\n",
       "   Parch            Ticket     Fare Cabin Embarked  \n",
       "0      0         A/5 21171   7.2500   NaN        S  \n",
       "1      0          PC 17599  71.2833   C85        C  \n",
       "2      0  STON/O2. 3101282   7.9250   NaN        S  \n",
       "3      0            113803  53.1000  C123        S  \n",
       "4      0            373450   8.0500   NaN        S  "
      ]
     },
     "execution_count": 4,
     "metadata": {},
     "output_type": "execute_result"
    }
   ],
   "source": [
    "train.head()"
   ]
  },
  {
   "cell_type": "code",
   "execution_count": 5,
   "metadata": {},
   "outputs": [
    {
     "name": "stdout",
     "output_type": "stream",
     "text": [
      "<class 'pandas.core.frame.DataFrame'>\n",
      "RangeIndex: 891 entries, 0 to 890\n",
      "Data columns (total 12 columns):\n",
      " #   Column       Non-Null Count  Dtype  \n",
      "---  ------       --------------  -----  \n",
      " 0   PassengerId  891 non-null    int64  \n",
      " 1   Survived     891 non-null    int64  \n",
      " 2   Pclass       891 non-null    int64  \n",
      " 3   Name         891 non-null    object \n",
      " 4   Sex          891 non-null    object \n",
      " 5   Age          714 non-null    float64\n",
      " 6   SibSp        891 non-null    int64  \n",
      " 7   Parch        891 non-null    int64  \n",
      " 8   Ticket       891 non-null    object \n",
      " 9   Fare         891 non-null    float64\n",
      " 10  Cabin        204 non-null    object \n",
      " 11  Embarked     889 non-null    object \n",
      "dtypes: float64(2), int64(5), object(5)\n",
      "memory usage: 83.7+ KB\n"
     ]
    }
   ],
   "source": [
    "train.info()"
   ]
  },
  {
   "cell_type": "code",
   "execution_count": 6,
   "metadata": {},
   "outputs": [
    {
     "name": "stdout",
     "output_type": "stream",
     "text": [
      "npassengers = 891 \n"
     ]
    }
   ],
   "source": [
    "npassengers = train.PassengerId.nunique()\n",
    "print(f'{npassengers = } ')"
   ]
  },
  {
   "cell_type": "code",
   "execution_count": 7,
   "metadata": {},
   "outputs": [
    {
     "data": {
      "text/html": [
       "<style type=\"text/css\">\n",
       "</style>\n",
       "<table id=\"T_1aa93\">\n",
       "  <thead>\n",
       "    <tr>\n",
       "      <th class=\"blank level0\" >&nbsp;</th>\n",
       "      <th id=\"T_1aa93_level0_col0\" class=\"col_heading level0 col0\" >PassengerId</th>\n",
       "      <th id=\"T_1aa93_level0_col1\" class=\"col_heading level0 col1\" >Survived</th>\n",
       "      <th id=\"T_1aa93_level0_col2\" class=\"col_heading level0 col2\" >Pclass</th>\n",
       "      <th id=\"T_1aa93_level0_col3\" class=\"col_heading level0 col3\" >Age</th>\n",
       "      <th id=\"T_1aa93_level0_col4\" class=\"col_heading level0 col4\" >SibSp</th>\n",
       "      <th id=\"T_1aa93_level0_col5\" class=\"col_heading level0 col5\" >Parch</th>\n",
       "      <th id=\"T_1aa93_level0_col6\" class=\"col_heading level0 col6\" >Fare</th>\n",
       "    </tr>\n",
       "  </thead>\n",
       "  <tbody>\n",
       "    <tr>\n",
       "      <th id=\"T_1aa93_level0_row0\" class=\"row_heading level0 row0\" >count</th>\n",
       "      <td id=\"T_1aa93_row0_col0\" class=\"data row0 col0\" >891,00</td>\n",
       "      <td id=\"T_1aa93_row0_col1\" class=\"data row0 col1\" >891,00</td>\n",
       "      <td id=\"T_1aa93_row0_col2\" class=\"data row0 col2\" >891,00</td>\n",
       "      <td id=\"T_1aa93_row0_col3\" class=\"data row0 col3\" >714,00</td>\n",
       "      <td id=\"T_1aa93_row0_col4\" class=\"data row0 col4\" >891,00</td>\n",
       "      <td id=\"T_1aa93_row0_col5\" class=\"data row0 col5\" >891,00</td>\n",
       "      <td id=\"T_1aa93_row0_col6\" class=\"data row0 col6\" >891,00</td>\n",
       "    </tr>\n",
       "    <tr>\n",
       "      <th id=\"T_1aa93_level0_row1\" class=\"row_heading level0 row1\" >mean</th>\n",
       "      <td id=\"T_1aa93_row1_col0\" class=\"data row1 col0\" >446,00</td>\n",
       "      <td id=\"T_1aa93_row1_col1\" class=\"data row1 col1\" >0,38</td>\n",
       "      <td id=\"T_1aa93_row1_col2\" class=\"data row1 col2\" >2,31</td>\n",
       "      <td id=\"T_1aa93_row1_col3\" class=\"data row1 col3\" >29,70</td>\n",
       "      <td id=\"T_1aa93_row1_col4\" class=\"data row1 col4\" >0,52</td>\n",
       "      <td id=\"T_1aa93_row1_col5\" class=\"data row1 col5\" >0,38</td>\n",
       "      <td id=\"T_1aa93_row1_col6\" class=\"data row1 col6\" >32,20</td>\n",
       "    </tr>\n",
       "    <tr>\n",
       "      <th id=\"T_1aa93_level0_row2\" class=\"row_heading level0 row2\" >std</th>\n",
       "      <td id=\"T_1aa93_row2_col0\" class=\"data row2 col0\" >257,35</td>\n",
       "      <td id=\"T_1aa93_row2_col1\" class=\"data row2 col1\" >0,49</td>\n",
       "      <td id=\"T_1aa93_row2_col2\" class=\"data row2 col2\" >0,84</td>\n",
       "      <td id=\"T_1aa93_row2_col3\" class=\"data row2 col3\" >14,53</td>\n",
       "      <td id=\"T_1aa93_row2_col4\" class=\"data row2 col4\" >1,10</td>\n",
       "      <td id=\"T_1aa93_row2_col5\" class=\"data row2 col5\" >0,81</td>\n",
       "      <td id=\"T_1aa93_row2_col6\" class=\"data row2 col6\" >49,69</td>\n",
       "    </tr>\n",
       "    <tr>\n",
       "      <th id=\"T_1aa93_level0_row3\" class=\"row_heading level0 row3\" >min</th>\n",
       "      <td id=\"T_1aa93_row3_col0\" class=\"data row3 col0\" >1,00</td>\n",
       "      <td id=\"T_1aa93_row3_col1\" class=\"data row3 col1\" >0,00</td>\n",
       "      <td id=\"T_1aa93_row3_col2\" class=\"data row3 col2\" >1,00</td>\n",
       "      <td id=\"T_1aa93_row3_col3\" class=\"data row3 col3\" >0,42</td>\n",
       "      <td id=\"T_1aa93_row3_col4\" class=\"data row3 col4\" >0,00</td>\n",
       "      <td id=\"T_1aa93_row3_col5\" class=\"data row3 col5\" >0,00</td>\n",
       "      <td id=\"T_1aa93_row3_col6\" class=\"data row3 col6\" >0,00</td>\n",
       "    </tr>\n",
       "    <tr>\n",
       "      <th id=\"T_1aa93_level0_row4\" class=\"row_heading level0 row4\" >25%</th>\n",
       "      <td id=\"T_1aa93_row4_col0\" class=\"data row4 col0\" >223,50</td>\n",
       "      <td id=\"T_1aa93_row4_col1\" class=\"data row4 col1\" >0,00</td>\n",
       "      <td id=\"T_1aa93_row4_col2\" class=\"data row4 col2\" >2,00</td>\n",
       "      <td id=\"T_1aa93_row4_col3\" class=\"data row4 col3\" >20,12</td>\n",
       "      <td id=\"T_1aa93_row4_col4\" class=\"data row4 col4\" >0,00</td>\n",
       "      <td id=\"T_1aa93_row4_col5\" class=\"data row4 col5\" >0,00</td>\n",
       "      <td id=\"T_1aa93_row4_col6\" class=\"data row4 col6\" >7,91</td>\n",
       "    </tr>\n",
       "    <tr>\n",
       "      <th id=\"T_1aa93_level0_row5\" class=\"row_heading level0 row5\" >50%</th>\n",
       "      <td id=\"T_1aa93_row5_col0\" class=\"data row5 col0\" >446,00</td>\n",
       "      <td id=\"T_1aa93_row5_col1\" class=\"data row5 col1\" >0,00</td>\n",
       "      <td id=\"T_1aa93_row5_col2\" class=\"data row5 col2\" >3,00</td>\n",
       "      <td id=\"T_1aa93_row5_col3\" class=\"data row5 col3\" >28,00</td>\n",
       "      <td id=\"T_1aa93_row5_col4\" class=\"data row5 col4\" >0,00</td>\n",
       "      <td id=\"T_1aa93_row5_col5\" class=\"data row5 col5\" >0,00</td>\n",
       "      <td id=\"T_1aa93_row5_col6\" class=\"data row5 col6\" >14,45</td>\n",
       "    </tr>\n",
       "    <tr>\n",
       "      <th id=\"T_1aa93_level0_row6\" class=\"row_heading level0 row6\" >75%</th>\n",
       "      <td id=\"T_1aa93_row6_col0\" class=\"data row6 col0\" >668,50</td>\n",
       "      <td id=\"T_1aa93_row6_col1\" class=\"data row6 col1\" >1,00</td>\n",
       "      <td id=\"T_1aa93_row6_col2\" class=\"data row6 col2\" >3,00</td>\n",
       "      <td id=\"T_1aa93_row6_col3\" class=\"data row6 col3\" >38,00</td>\n",
       "      <td id=\"T_1aa93_row6_col4\" class=\"data row6 col4\" >1,00</td>\n",
       "      <td id=\"T_1aa93_row6_col5\" class=\"data row6 col5\" >0,00</td>\n",
       "      <td id=\"T_1aa93_row6_col6\" class=\"data row6 col6\" >31,00</td>\n",
       "    </tr>\n",
       "    <tr>\n",
       "      <th id=\"T_1aa93_level0_row7\" class=\"row_heading level0 row7\" >max</th>\n",
       "      <td id=\"T_1aa93_row7_col0\" class=\"data row7 col0\" >891,00</td>\n",
       "      <td id=\"T_1aa93_row7_col1\" class=\"data row7 col1\" >1,00</td>\n",
       "      <td id=\"T_1aa93_row7_col2\" class=\"data row7 col2\" >3,00</td>\n",
       "      <td id=\"T_1aa93_row7_col3\" class=\"data row7 col3\" >80,00</td>\n",
       "      <td id=\"T_1aa93_row7_col4\" class=\"data row7 col4\" >8,00</td>\n",
       "      <td id=\"T_1aa93_row7_col5\" class=\"data row7 col5\" >6,00</td>\n",
       "      <td id=\"T_1aa93_row7_col6\" class=\"data row7 col6\" >512,33</td>\n",
       "    </tr>\n",
       "  </tbody>\n",
       "</table>\n"
      ],
      "text/plain": [
       "<pandas.io.formats.style.Styler at 0x17792294d70>"
      ]
     },
     "execution_count": 7,
     "metadata": {},
     "output_type": "execute_result"
    }
   ],
   "source": [
    "train.describe().style.format(precision=2, thousands=\".\", decimal=\",\")"
   ]
  },
  {
   "cell_type": "code",
   "execution_count": 21,
   "metadata": {},
   "outputs": [
    {
     "data": {
      "text/plain": [
       "<Axes: xlabel='Survived', ylabel='Fare'>"
      ]
     },
     "execution_count": 21,
     "metadata": {},
     "output_type": "execute_result"
    },
    {
     "data": {
      "image/png": "[encoded data removed]",
      "text/plain": [
       "<Figure size 640x480 with 1 Axes>"
      ]
     },
     "metadata": {},
     "output_type": "display_data"
    }
   ],
   "source": [
    "# Draw a nested boxplot to show bills by day and time\n",
    "sns.boxplot(x=\"Survived\", y=\"Fare\",\n",
    "            data=train.astype({'Survived': 'bool'}))"
   ]
  },
  {
   "cell_type": "code",
   "execution_count": null,
   "metadata": {},
   "outputs": [],
   "source": []
  },
  {
   "cell_type": "code",
   "execution_count": null,
   "metadata": {},
   "outputs": [],
   "source": []
  },
  {
   "cell_type": "code",
   "execution_count": null,
   "metadata": {},
   "outputs": [],
   "source": []
  }
 ],
 "metadata": {
  "kernelspec": {
   "display_name": "Python 3",
   "language": "python",
   "name": "python3"
  },
  "language_info": {
   "codemirror_mode": {
    "name": "ipython",
    "version": 3
   },
   "file_extension": ".py",
   "mimetype": "text/x-python",
   "name": "python",
   "nbconvert_exporter": "python",
   "pygments_lexer": "ipython3",
   "version": "3.13.1"
  }
 },
 "nbformat": 4,
 "nbformat_minor": 2
}
